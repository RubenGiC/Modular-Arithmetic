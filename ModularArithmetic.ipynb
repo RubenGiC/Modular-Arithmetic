{
 "cells": [
  {
   "cell_type": "code",
   "execution_count": 1,
   "id": "5b00a973",
   "metadata": {},
   "outputs": [],
   "source": [
    "#importo las librerias necesarias\n",
    "import numpy as np"
   ]
  },
  {
   "cell_type": "markdown",
   "id": "11ad4cd7",
   "metadata": {},
   "source": [
    "# Modular Arithmetic\n",
    "## Produced by: Ruben Girela Castellón\n",
    "### Implements extended Euclid algorithm for computing greatest common divisor: given 2 integers ***a*** and ***b***, find $u, v \\in \\mathbb{Z}$ such that $au + bv$ is the gratest common divisor of a and b.\n",
    "\n",
    "The extend Euclid algorithm is a slight modification that also allow the gratest common divisor to be expressed as a linear combination.\n",
    "$$gcd(a,b) = gcd(b,a \\thinspace mod \\thinspace b) = ... gcd(d,0) = d; d \\in \\mathbb{Z}$$\n",
    "\n",
    "$$a/b = q; a\\%b = r$$\n",
    "\n",
    "<table class='tg'>\n",
    "    <thead>\n",
    "        <tr>\n",
    "            <th>quotient</th>\n",
    "            <th>rest</th>\n",
    "            <th>u</th>\n",
    "            <th>v</th>\n",
    "        </tr>\n",
    "    </thead>\n",
    "    <tbody>\n",
    "        <tr>\n",
    "            <td></td>\n",
    "            <td>a</td>\n",
    "            <td>1</td>\n",
    "            <td>0</td>\n",
    "        </tr>\n",
    "        <tr>\n",
    "            <td></td>\n",
    "            <td>b</td>\n",
    "            <td>0</td>\n",
    "            <td>1</td>\n",
    "        </tr>\n",
    "        <tr>\n",
    "            <td>q</td>\n",
    "            <td>r</td>\n",
    "            <td><p>$$u_i = u_{i-2} - q_i*u_{i-1}$$</p></td>\n",
    "            <td><p>$$v_i = v_{i-2} - q_i*v_{i-1}$$</p></td>\n",
    "        </tr>\n",
    "        <tr>\n",
    "            <td colspan=4 style=\"text-align: center\">...</td>\n",
    "    </tbody>\n",
    "</table>\n",
    "\n",
    "In this way not only obtain the gcd, but also the **u** and **v** components."
   ]
  },
  {
   "cell_type": "code",
   "execution_count": 2,
   "id": "f4d90624",
   "metadata": {},
   "outputs": [],
   "source": [
    "#función que calcula el maximo comun divisor y devuelve el mcd y u, v pertenecientes a numeros enteros\n",
    "def mcd(x, y, u=[1,0], v=[0,1]):\n",
    "    \n",
    "    #si x es > y indico que x es el dividendo e y es el divisor en valor absoluto\n",
    "    dividendo = abs(x)\n",
    "    divisor = abs(y)\n",
    "        \n",
    "    #en caso contrario al reves\n",
    "    if(x<y):\n",
    "        #si y es > a x indico que y es el dividendo y x es el divisor en valor absoluto\n",
    "        dividendo = abs(y)\n",
    "        divisor = abs(x)\n",
    "        u, v = v, u\n",
    "            \n",
    "    #calculo el cociente y el resto\n",
    "    cociente, resto = divmod(dividendo, divisor)\n",
    "    \n",
    "    #print(dividendo,\"/\",divisor,\" = cociente: \",cociente,\" resto: \",resto)\n",
    "    \n",
    "    #si el resto es 0 termina y devuelve el cmd, u y v\n",
    "    if(resto == 0): return divisor, u[-1], v[-1]\n",
    "    \n",
    "    '''\n",
    "    en caso contrario copio la listas de u y v y añado el nuevo valor u y v\n",
    "    a traves de la formula: u_i = u_(i-2) - q_i * u_(i-1), siendo q_i el cociente\n",
    "    calculado.\n",
    "    '''\n",
    "    u1 = u.copy()\n",
    "    #print(\"new u =\",u1[-2]-cociente*u1[-1])\n",
    "    u1.append(u1[-2]-cociente*u1[-1])\n",
    "    v1 = v.copy()\n",
    "    #print(\"new v =\",v1[-2]-cociente*v1[-1])\n",
    "    v1.append(v1[-2]-cociente*v1[-1])\n",
    "    \n",
    "    #y repetimos el proceso, hasta que el resto sea 0\n",
    "    resultado = mcd(divisor,resto, u1, v1)\n",
    "    \n",
    "    '''\n",
    "    esto se hace ya que es una función recursiva y tengo que ir pasando el \n",
    "    resultado en cada iteración recursiva.\n",
    "    '''\n",
    "    return resultado"
   ]
  },
  {
   "cell_type": "markdown",
   "id": "24e5f28d",
   "metadata": {},
   "source": [
    "Some examples:"
   ]
  },
  {
   "cell_type": "code",
   "execution_count": 3,
   "id": "faf33abc",
   "metadata": {},
   "outputs": [
    {
     "name": "stdout",
     "output_type": "stream",
     "text": [
      "Resultados:\n",
      "mcd(23, 13) = 1, u = -6, v =13\n",
      "mcd(10, 4) = 2, u = 1, v = -2\n",
      "mcd(520, 12) = 4, u = 1, v = -43\n"
     ]
    }
   ],
   "source": [
    "print(\"Resultados:\")\n",
    "divisor, u, v = mcd(28, 13)\n",
    "print(f\"mcd(23, 13) = {divisor}, u = {u}, v ={v}\")\n",
    "divisor, u, v = mcd(10, 4)\n",
    "print(f\"mcd(10, 4) = {divisor}, u = {u}, v = {v}\")\n",
    "divisor, u, v = mcd(520, 12)\n",
    "print(f\"mcd(520, 12) = {divisor}, u = {u}, v = {v}\")"
   ]
  },
  {
   "cell_type": "markdown",
   "id": "11a275a6",
   "metadata": {},
   "source": [
    "### Using the function above (mcd), create a new function that computes $a^{-1} \\thinspace mod \\thinspace b$ for any ***a*** and ***b*** integers that are relatively prime\n",
    "\n",
    "To do this calculation, the first thing is to check that **a** and **b** are relative primes.\n",
    "For that we will call the **mcd** function, so that it calculates the **greates common divisor**, **u** and **v**.\n",
    "Once the greatest common divisor has been obtain, we check that said value is **1** or **-1**. This will tell us if **a** and **b** are relatively prime or not.\n",
    "\n",
    "If gcd(a,b) = 1 or -1 are relatively prime.\n",
    "\n",
    "If they are relatively prime, we compute $a^{-1} mod b$:\n",
    "$$a^{-1} = u \\thinspace mod \\thinspace n$$"
   ]
  },
  {
   "cell_type": "code",
   "execution_count": 6,
   "id": "4193337f",
   "metadata": {},
   "outputs": [],
   "source": [
    "#función que calcula a^(-1) mod b, para cualquier a, b enteros que sean primos relativos\n",
    "def ej2(x, y):\n",
    "    \n",
    "    #calculo el mcd, la v y u\n",
    "    divisor, u, v = mcd(x,y)\n",
    "    \n",
    "    '''\n",
    "    Compruebo solo el 1, ya que el divisor y el dividendo los convierto en valor \n",
    "    absoluto, con lo cual incluye tambien el -1.\n",
    "    '''\n",
    "    #si el divisor es 1 son primos relativos.\n",
    "    if(divisor == 1):\n",
    "        #calculo a^(-1) su inversa haciendo u mod b\n",
    "        inversa = u % y        \n",
    "        return inversa\n",
    "    \n",
    "    #si no son primos relativos devuelvo -1 e imprimo un mensaje de error\n",
    "    print(\"Error no son primos relativos, ya que ambos son divisibles por\", divisor)\n",
    "    return -1"
   ]
  },
  {
   "cell_type": "markdown",
   "id": "aac09c85",
   "metadata": {},
   "source": [
    "Some examples:"
   ]
  },
  {
   "cell_type": "code",
   "execution_count": 8,
   "id": "4e1ee6c6",
   "metadata": {},
   "outputs": [
    {
     "name": "stdout",
     "output_type": "stream",
     "text": [
      "28^-1 mod 13 = 7\n",
      "6^-1 mod 35 = 6\n",
      "Error no son primos relativos, ya que ambos son divisibles por 3\n",
      "6^-1 mod 27 = -1\n",
      "Error no son primos relativos, ya que ambos son divisibles por 2\n",
      "10^-1 mod 4 = -1\n",
      "Error no son primos relativos, ya que ambos son divisibles por 4\n",
      "520^-1 mod 12 = -1\n",
      "46381^-1 mod 768479 = 239751\n"
     ]
    }
   ],
   "source": [
    "inversa = ej2(28,13)\n",
    "print(\"28^-1 mod 13 =\",inversa)\n",
    "inversa = ej2(6, 35)\n",
    "print(\"6^-1 mod 35 =\",inversa)\n",
    "inversa = ej2(6, 27)\n",
    "print(\"6^-1 mod 27 =\",inversa)\n",
    "inversa = ej2(10, 4)\n",
    "print(\"10^-1 mod 4 =\",inversa)\n",
    "inversa = ej2(520, 12)\n",
    "print('520^-1 mod 12 =',inversa)\n",
    "inversa = ej2(46381, 768479)\n",
    "print('46381^-1 mod 768479 =',inversa)"
   ]
  },
  {
   "cell_type": "markdown",
   "id": "636688c7",
   "metadata": {},
   "source": [
    "### Bibliografía\n",
    "- https://es.wikipedia.org/wiki/Algoritmo_de_Euclides\n",
    "- https://www.glc.us.es/~jalonso/exercitium/conjunto-de-primos-relativos/\n",
    "- https://conf.math.illinois.edu/Software/GAP-Manual\n",
    "- https://www.gap-system.org/Manuals/doc/ref/chap14.html\n"
   ]
  }
 ],
 "metadata": {
  "kernelspec": {
   "display_name": "Python 3 (ipykernel)",
   "language": "python",
   "name": "python3"
  },
  "language_info": {
   "codemirror_mode": {
    "name": "ipython",
    "version": 3
   },
   "file_extension": ".py",
   "mimetype": "text/x-python",
   "name": "python",
   "nbconvert_exporter": "python",
   "pygments_lexer": "ipython3",
   "version": "3.9.7"
  }
 },
 "nbformat": 4,
 "nbformat_minor": 5
}
