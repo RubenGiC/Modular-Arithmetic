{
 "cells": [
  {
   "cell_type": "code",
   "execution_count": 8,
   "id": "5b00a973",
   "metadata": {},
   "outputs": [],
   "source": [
    "#importo las librerias necesarias\n",
    "import random\n",
    "#import numpy as np"
   ]
  },
  {
   "cell_type": "markdown",
   "id": "11ad4cd7",
   "metadata": {},
   "source": [
    "# Modular Arithmetic\n",
    "## Produced by: Ruben Girela Castellón\n",
    "### Implements extended Euclid algorithm for computing greatest common divisor: given 2 integers ***a*** and ***b***, find $u, v \\in \\mathbb{Z}$ such that $au + bv$ is the gratest common divisor of a and b.\n",
    "\n",
    "The extend Euclid algorithm is a slight modification that also allow the gratest common divisor to be expressed as a linear combination.\n",
    "$$gcd(a,b) = gcd(b,a \\thinspace mod \\thinspace b) = ... gcd(d,0) = d; d \\in \\mathbb{Z}$$\n",
    "\n",
    "$$a/b = q; a\\%b = r$$\n",
    "\n",
    "<table class='tg'>\n",
    "    <thead>\n",
    "        <tr>\n",
    "            <th>quotient</th>\n",
    "            <th>rest</th>\n",
    "            <th>u</th>\n",
    "            <th>v</th>\n",
    "        </tr>\n",
    "    </thead>\n",
    "    <tbody>\n",
    "        <tr>\n",
    "            <td></td>\n",
    "            <td>a</td>\n",
    "            <td>1</td>\n",
    "            <td>0</td>\n",
    "        </tr>\n",
    "        <tr>\n",
    "            <td></td>\n",
    "            <td>b</td>\n",
    "            <td>0</td>\n",
    "            <td>1</td>\n",
    "        </tr>\n",
    "        <tr>\n",
    "            <td>q</td>\n",
    "            <td>r</td>\n",
    "            <td><p>$$u_i = u_{i-2} - q_i*u_{i-1}$$</p></td>\n",
    "            <td><p>$$v_i = v_{i-2} - q_i*v_{i-1}$$</p></td>\n",
    "        </tr>\n",
    "        <tr>\n",
    "            <td colspan=4 style=\"text-align: center\">...</td>\n",
    "    </tbody>\n",
    "</table>\n",
    "\n",
    "In this way not only obtain the gcd, but also the **u** and **v** components."
   ]
  },
  {
   "cell_type": "code",
   "execution_count": 1,
   "id": "f4d90624",
   "metadata": {},
   "outputs": [],
   "source": [
    "#función que calcula el maximo comun divisor y devuelve el mcd y u, v pertenecientes a numeros enteros\n",
    "def mcd(x, y, u=[1,0], v=[0,1]):\n",
    "    \n",
    "    #Los pongo en valor absoluto\n",
    "    dividendo = abs(x)\n",
    "    divisor = abs(y)\n",
    "            \n",
    "    #calculo el cociente y el resto\n",
    "    cociente, resto = divmod(dividendo, divisor)\n",
    "    \n",
    "    #si el resto es 0 termina y devuelve el cmd, u y v\n",
    "    if(resto == 0): return divisor, u[-1], v[-1]\n",
    "    \n",
    "    '''\n",
    "    en caso contrario copio la listas de u y v y añado el nuevo valor u y v\n",
    "    a traves de la formula: u_i = u_(i-2) - q_i * u_(i-1), siendo q_i el cociente\n",
    "    calculado.\n",
    "    '''\n",
    "    u1 = u.copy()\n",
    "    u1.append(u1[-2]-cociente*u1[-1])\n",
    "    v1 = v.copy()\n",
    "    v1.append(v1[-2]-cociente*v1[-1])\n",
    "    \n",
    "    #y repetimos el proceso, hasta que el resto sea 0\n",
    "    resultado = mcd(divisor,resto, u1, v1)\n",
    "    \n",
    "    '''\n",
    "    esto se hace ya que es una función recursiva y tengo que ir pasando el \n",
    "    resultado en cada iteración recursiva.\n",
    "    '''\n",
    "    return resultado"
   ]
  },
  {
   "cell_type": "markdown",
   "id": "24e5f28d",
   "metadata": {},
   "source": [
    "Some examples:"
   ]
  },
  {
   "cell_type": "code",
   "execution_count": 3,
   "id": "faf33abc",
   "metadata": {},
   "outputs": [
    {
     "name": "stdout",
     "output_type": "stream",
     "text": [
      "Resultados:\n",
      "mcd(28, 13) = 1, u = -6, v =13\n",
      "mcd(10, 4) = 2, u = 1, v = -2\n",
      "mcd(520, 12) = 4, u = 1, v = -43\n"
     ]
    }
   ],
   "source": [
    "print(\"Resultados:\")\n",
    "divisor, u, v = mcd(28, 13)\n",
    "print(f\"mcd(28, 13) = {divisor}, u = {u}, v ={v}\")\n",
    "divisor, u, v = mcd(10, 4)\n",
    "print(f\"mcd(10, 4) = {divisor}, u = {u}, v = {v}\")\n",
    "divisor, u, v = mcd(520, 12)\n",
    "print(f\"mcd(520, 12) = {divisor}, u = {u}, v = {v}\")"
   ]
  },
  {
   "cell_type": "markdown",
   "id": "11a275a6",
   "metadata": {},
   "source": [
    "### Using the function above (mcd), create a new function that computes $a^{-1} \\thinspace mod \\thinspace b$ for any ***a*** and ***b*** integers that are relatively prime.\n",
    "\n",
    "To do this calculation, the first thing is to check that **a** and **b** are relative primes.\n",
    "For that we will call the **mcd** function, so that it calculates the **greates common divisor**, **u** and **v**.\n",
    "Once the greatest common divisor has been obtain, we check that said value is **1** or **-1**. This will tell us if **a** and **b** are relatively prime or not.\n",
    "\n",
    "If gcd(a,b) = 1 or -1 are relatively prime.\n",
    "\n",
    "If they are relatively prime, we compute $a^{-1} mod b$:\n",
    "$$a^{-1} = u \\thinspace mod \\thinspace n$$"
   ]
  },
  {
   "cell_type": "code",
   "execution_count": 4,
   "id": "4193337f",
   "metadata": {},
   "outputs": [],
   "source": [
    "#función que calcula a^(-1) mod b, para cualquier a, b enteros que sean primos relativos\n",
    "def ej2(x, y):\n",
    "    \n",
    "    #para que los valores sean enteros\n",
    "    x = int(x)\n",
    "    y = int(y)\n",
    "    \n",
    "    #calculo el mcd, la v y u\n",
    "    divisor, u, v = mcd(x,y)\n",
    "    \n",
    "    '''\n",
    "    Compruebo solo el 1, ya que el divisor y el dividendo los convierto en valor \n",
    "    absoluto, con lo cual incluye tambien el -1.\n",
    "    '''\n",
    "    #si el divisor es 1 son primos relativos.\n",
    "    if(divisor == 1):\n",
    "        #calculo a^(-1) su inversa haciendo u mod b\n",
    "        return u % y        \n",
    "    \n",
    "    #si no son primos relativos devuelvo -1 e imprimo un mensaje de error\n",
    "    print(\"Error no son primos relativos, ya que ambos son divisibles por\", divisor)\n",
    "    return -1"
   ]
  },
  {
   "cell_type": "markdown",
   "id": "aac09c85",
   "metadata": {},
   "source": [
    "Some examples:"
   ]
  },
  {
   "cell_type": "code",
   "execution_count": 6,
   "id": "4e1ee6c6",
   "metadata": {},
   "outputs": [
    {
     "name": "stdout",
     "output_type": "stream",
     "text": [
      "13^-1 mod 28 = 13\n",
      "28^-1 mod 13 = 7\n",
      "6^-1 mod 35 = 6\n",
      "Error no son primos relativos, ya que ambos son divisibles por 3\n",
      "6^-1 mod 27 = -1\n",
      "Error no son primos relativos, ya que ambos son divisibles por 2\n",
      "10^-1 mod 4 = -1\n",
      "Error no son primos relativos, ya que ambos son divisibles por 4\n",
      "520^-1 mod 12 = -1\n",
      "46381^-1 mod 768479 = 239751\n"
     ]
    }
   ],
   "source": [
    "inversa = ej2(13,28)\n",
    "print(\"13^-1 mod 28 =\",inversa)\n",
    "inversa = ej2(28,13)\n",
    "print(\"28^-1 mod 13 =\",inversa)\n",
    "inversa = ej2(6, 35)\n",
    "print(\"6^-1 mod 35 =\",inversa)\n",
    "inversa = ej2(6, 27)\n",
    "print(\"6^-1 mod 27 =\",inversa)\n",
    "inversa = ej2(10, 4)\n",
    "print(\"10^-1 mod 4 =\",inversa)\n",
    "inversa = ej2(520, 12)\n",
    "print('520^-1 mod 12 =',inversa)\n",
    "inversa = ej2(46381, 768479)\n",
    "print('46381^-1 mod 768479 =',inversa)"
   ]
  },
  {
   "cell_type": "markdown",
   "id": "b0bb349b",
   "metadata": {},
   "source": [
    "### Function that computes $a^{b} \\thinspace mod \\thinspace n$ where $a,b,c \\in \\mathbb N$, this representation takes into account the binary representation of b.\n",
    "\n",
    "Initially we start from the given values **a**, **b** and **c** being integers and positive, otherwise this function does not work. Then we start from an additional $p=1$ initially that will return ther result of said operation.\n",
    "\n",
    "Next, we calculate the remainder of value $r = b\\%2$, if said remainder is 1 we update $p=(p·a)\\%n$, otherwise it's not updated.\n",
    "\n",
    "Then we update **a** and **b**, increasing the value of $a=a^{2} \\thinspace mod \\thinspace n$ and decreasing the value of $b=\\frac{(b-r)}{2}$, with **r** the remainder calculated above.\n",
    "\n",
    "These operations are repeated until the value of $b\\leq0$, when it is stop and returns the last calculated value of **p**.\n",
    "\n"
   ]
  },
  {
   "cell_type": "code",
   "execution_count": 1,
   "id": "f084670f",
   "metadata": {},
   "outputs": [],
   "source": [
    "#función que calcula a^b mod n, para cualquier a, b y n enteros positivos\n",
    "def PowerModInt(x, y, n):\n",
    "    #esto es por si escribe algun valor negativo y/o no entero, para que el programa funcione correctamente\n",
    "    x, y, n = abs(int(x)), abs(int(y)), abs(int(n))\n",
    "    \n",
    "    #inicialmente p = 1\n",
    "    p = 1\n",
    "    \n",
    "    #mientras x no sea 0\n",
    "    while(y>0):\n",
    "        #calculo b mod 2\n",
    "        r = y % 2\n",
    "        \n",
    "        #si es 1\n",
    "        if(r == 1):\n",
    "            #actualizo p\n",
    "            p = (p*x) % n\n",
    "            \n",
    "        x = pow(x,2,n)\n",
    "        \n",
    "        y = (y-r)/2\n",
    "    \n",
    "    return p"
   ]
  },
  {
   "cell_type": "markdown",
   "id": "b8584d7f",
   "metadata": {},
   "source": [
    "Some examples:"
   ]
  },
  {
   "cell_type": "code",
   "execution_count": 3,
   "id": "05163625",
   "metadata": {},
   "outputs": [
    {
     "name": "stdout",
     "output_type": "stream",
     "text": [
      "My function:\n",
      "28^13 mod 5 = 3\n",
      "Pow:\n",
      "pow(28, 13, 5) = 3\n",
      "Other examples:\n",
      "12523^130023000000 mod 23 = 3\n",
      "2^13 mod 5 = 2\n"
     ]
    }
   ],
   "source": [
    "print(\"My function:\")\n",
    "print(f\"28^13 mod 5 = {PowerModInt(28, 13, 5)}\")\n",
    "print(\"Pow:\")\n",
    "print(f\"pow(28, 13, 5) = {pow(28,13,5)}\")\n",
    "print(\"Other examples:\")\n",
    "print(f\"12523^130023000000 mod 23 = {PowerModInt(12523, 130023000000, 23)}\")\n",
    "print(f\"2^13 mod 5 = {PowerModInt(2, 13, 5)}\")\n"
   ]
  },
  {
   "cell_type": "markdown",
   "id": "b25b4308",
   "metadata": {},
   "source": [
    "### Function that determines if a positive and integer value is probabily prime or not, using the Miller-Rabin algorithm.\n",
    "\n",
    "For this, the value it receives has to be integer and positive, since if it is not, it can't be prime.\n",
    "\n",
    "The Miller-Rabin primality test is an algorithm that determines whether a given number is prime, similar to the Fermat primality test. This algorithm was proposed by G. L. Miller, it was a deterministic algorithm, but based on the unproven generalized of Riemann hypothesis. Later, the algorithm was modified by Michael Oser Rabin, being a probabilistic algorithm.\n",
    "\n",
    "The algorithm works for odd values $p\\geq5$. The function can also calculate values $p<5$, checking if it is 2 or 3, since we know that those numbers are prime.\n",
    "\n",
    "If the value is $p\\geq5$ we apply the Miller-Rabin algorithm, which consists of:\n",
    "Checking if the number is odd or even.\n",
    "If the number is even, the function will return 0 indicating that it is not prime.\n",
    "If the number is odd:\n",
    "We calculate two values **u** and **v**, initialized:\n",
    "- $s=p-1$\n",
    "- $u=0$\n",
    "\n",
    "Subsequently, the value **u** is increased each time the value $s=s//2$ is updated. Until the remainder of $s\\%2=0$\n",
    "Once the values u and s are obtained, we can apply the formula $L = \\{a^{s}, a^{s·2}, a^{s·2^{2}}, ..., a^{s·2^{u}}\\}=a^{n-1}$, being **a** a random integer value not repeated between [2, p-2].\n",
    "\n",
    "This is repeating in this case 10 times at most, having an error $\\frac{1}{4·10}$\n",
    "\n",
    "When does it stop?\n",
    "- If $1 \\notin L$, **p** is not prime and the program ends up returning 0.\n",
    "- If in no case $a^{s·2^{k}}\\ne\\pm1; 0\\leq k<u$ is 1 or -1 (n-1), the program ends by returning 0 (not prime)\n",
    "- If $a^{2^{k}·s} = \\pm1; 0 \\leq k < u$, then **p** is probably prime and try another random value of **a** other than the values used.\n"
   ]
  },
  {
   "cell_type": "code",
   "execution_count": 9,
   "id": "660c55f8",
   "metadata": {},
   "outputs": [],
   "source": [
    "#FUncion que dado un numero x, determina si x es probablemente primo usando el metodo Miller-Rabin\n",
    "def isPrime(x):\n",
    "    \n",
    "    #por si el valor que recibe no es entero devuelve 0 (no es primo)\n",
    "    if(type(x) != type(int())):\n",
    "       return 0\n",
    "    \n",
    "    #si el numero x < 5\n",
    "    if(x < 5):\n",
    "        #y son 2 o 3 son probablemente primos\n",
    "        if(x==2 or x ==3):\n",
    "            return 1\n",
    "        \n",
    "        #en caso contrario no lo seran\n",
    "        return 0\n",
    "    \n",
    "    #si el numero es par directamente no es primo\n",
    "    if(x%2 == 0):\n",
    "        return 0\n",
    "    \n",
    "    #para calcular s y u inicialmente valdran s = x - 1 y u = 0\n",
    "    s = x-1\n",
    "    u = 0\n",
    "    \n",
    "    #mientras s sea par\n",
    "    while(s%2 == 0):\n",
    "        #incremento u en 1\n",
    "        u += 1\n",
    "        #y divido s a la mitad entera\n",
    "        s = s // 2\n",
    "    \n",
    "    #para saber si es primo o no inicialmente el resultado valdra 1\n",
    "    result = 1\n",
    "    \n",
    "    #contador k que contara las veces que lo comprueba, en mi caso 10 como mucho\n",
    "    k = 0\n",
    "    \n",
    "    #por defecto recorrera 10 veces\n",
    "    maximo = 10\n",
    "    \n",
    "    '''\n",
    "    pero si el numero es pequeño, por ejemplo 5, recorrera menos de 10 veces, \n",
    "    ya que estaríamos repitiendo numeros ya calculados anteriormente\n",
    "    '''\n",
    "    if(x-3 < 10):\n",
    "        maximo = x-3\n",
    "    \n",
    "    #genero una lista de n numeros aleatorios entre [2, x-2] no repetidos\n",
    "    lista = random.sample(range(2,x-1),maximo)\n",
    "    \n",
    "    #mientras el resultado es 1 o x-1 (-1) y no ha llegado al numero maximo de veces\n",
    "    while((result == 1 or result == x-1) and k < maximo):\n",
    "        \n",
    "        #obtengo aleatoriamente otro numero\n",
    "        a = lista.pop()\n",
    "        \n",
    "        #contador que regulara el numero de calculos\n",
    "        contador = 0\n",
    "        \n",
    "        #se hace el primer calculo a^s mod x\n",
    "        result = pow(a,s,x)\n",
    "        \n",
    "        #si el resultado no es 1 o -1 (x-1) y el contador es < u\n",
    "        while((result != 1 and result != x-1) and contador < u):\n",
    "            #incremento el contador\n",
    "            contador += 1\n",
    "            #calculo a^s·2^k mod x\n",
    "            result = pow(result,pow(2,contador),x)\n",
    "        k += 1 #incremento el numero de veces\n",
    "        \n",
    "    #si ha llegado al numero maximo de veces y el resultado sigue siendo 1 o -1 (x-1)\n",
    "    if(k== maximo and (result == 1 or result == x-1)):\n",
    "        return 1 #es primo\n",
    "    \n",
    "    #en caso contrario no es primo\n",
    "    return 0"
   ]
  },
  {
   "cell_type": "markdown",
   "id": "b6e49650",
   "metadata": {},
   "source": [
    "Some examples:"
   ]
  },
  {
   "cell_type": "code",
   "execution_count": 11,
   "id": "971250b6",
   "metadata": {},
   "outputs": [
    {
     "name": "stdout",
     "output_type": "stream",
     "text": [
      "¿31 es primo? True\n",
      "¿23 es primo? True\n",
      "¿21 es primo? False\n",
      "¿5 es primo? True\n",
      "¿97 es primo? True\n",
      "¿197 es primo? True\n",
      "¿196.25 es primo? False\n",
      "¿3333 es primo? False\n"
     ]
    }
   ],
   "source": [
    "print(\"¿31 es primo?\",bool(isPrime(31)))\n",
    "print(\"¿23 es primo?\",bool(isPrime(23)))\n",
    "print(\"¿21 es primo?\",bool(isPrime(21)))\n",
    "print(\"¿5 es primo?\",bool(isPrime(5)))\n",
    "print(\"¿97 es primo?\",bool(isPrime(97)))\n",
    "print(\"¿197 es primo?\",bool(isPrime(197)))\n",
    "print(\"¿196.25 es primo?\",bool(isPrime(196.25)))\n",
    "print(\"¿3333 es primo?\",bool(isPrime(3333)))"
   ]
  },
  {
   "cell_type": "markdown",
   "id": "636688c7",
   "metadata": {},
   "source": [
    "### Bibliografía\n",
    "- https://es.wikipedia.org/wiki/Algoritmo_de_Euclides\n",
    "- https://www.glc.us.es/~jalonso/exercitium/conjunto-de-primos-relativos/\n",
    "- https://conf.math.illinois.edu/Software/GAP-Manual\n",
    "- https://www.gap-system.org/Manuals/doc/ref/chap14.html\n",
    "- https://es.wikipedia.org/wiki/Test_de_primalidad_de_Miller-Rabin\n",
    "\n",
    "\n",
    "<a rel=\"license\" href=\"http://creativecommons.org/licenses/by-nc-nd/4.0/\"><img alt=\"Licencia Creative Commons\" style=\"border-width:0\" src=\"https://i.creativecommons.org/l/by-nc-nd/4.0/88x31.png\" /></a><br />Esta obra está bajo una <a rel=\"license\" href=\"http://creativecommons.org/licenses/by-nc-nd/4.0/\">Licencia Creative Commons Atribución-NoComercial-SinDerivadas 4.0 Internacional</a>."
   ]
  }
 ],
 "metadata": {
  "kernelspec": {
   "display_name": "Python 3 (ipykernel)",
   "language": "python",
   "name": "python3"
  },
  "language_info": {
   "codemirror_mode": {
    "name": "ipython",
    "version": 3
   },
   "file_extension": ".py",
   "mimetype": "text/x-python",
   "name": "python",
   "nbconvert_exporter": "python",
   "pygments_lexer": "ipython3",
   "version": "3.9.7"
  }
 },
 "nbformat": 4,
 "nbformat_minor": 5
}
